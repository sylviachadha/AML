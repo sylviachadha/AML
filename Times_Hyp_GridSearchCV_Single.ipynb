{
 "cells": [
  {
   "cell_type": "markdown",
   "metadata": {},
   "source": [
    "# Grid-Search Hyperparameter Tuning"
   ]
  },
  {
   "cell_type": "markdown",
   "metadata": {},
   "source": [
    "- What is hyper parameter\n",
    "- How to tune and indentify optimal values for hyper parameters\n",
    "- How to perform hyper parameter tuning in sklearn along with cross validation"
   ]
  },
  {
   "cell_type": "code",
   "execution_count": 21,
   "metadata": {},
   "outputs": [],
   "source": [
    "import numpy as np, pandas as pd, matplotlib.pyplot as plt\n",
    "from sklearn.tree import DecisionTreeRegressor\n",
    "from sklearn.pipeline import Pipeline\n",
    "from sklearn.model_selection import train_test_split, GridSearchCV, RandomizedSearchCV, cross_val_score, cross_validate\n",
    "from sklearn.metrics import mean_squared_error, r2_score\n",
    "from sklearn.linear_model import LinearRegression\n",
    "\n"
   ]
  },
  {
   "cell_type": "code",
   "execution_count": 2,
   "metadata": {},
   "outputs": [
    {
     "data": {
      "text/html": [
       "<div>\n",
       "<style scoped>\n",
       "    .dataframe tbody tr th:only-of-type {\n",
       "        vertical-align: middle;\n",
       "    }\n",
       "\n",
       "    .dataframe tbody tr th {\n",
       "        vertical-align: top;\n",
       "    }\n",
       "\n",
       "    .dataframe thead th {\n",
       "        text-align: right;\n",
       "    }\n",
       "</style>\n",
       "<table border=\"1\" class=\"dataframe\">\n",
       "  <thead>\n",
       "    <tr style=\"text-align: right;\">\n",
       "      <th></th>\n",
       "      <th>age</th>\n",
       "      <th>sex</th>\n",
       "      <th>bmi</th>\n",
       "      <th>children</th>\n",
       "      <th>smoker</th>\n",
       "      <th>region</th>\n",
       "      <th>expenses</th>\n",
       "    </tr>\n",
       "  </thead>\n",
       "  <tbody>\n",
       "    <tr>\n",
       "      <th>0</th>\n",
       "      <td>19</td>\n",
       "      <td>female</td>\n",
       "      <td>27.9</td>\n",
       "      <td>0</td>\n",
       "      <td>yes</td>\n",
       "      <td>southwest</td>\n",
       "      <td>16884.92</td>\n",
       "    </tr>\n",
       "    <tr>\n",
       "      <th>1</th>\n",
       "      <td>18</td>\n",
       "      <td>male</td>\n",
       "      <td>33.8</td>\n",
       "      <td>1</td>\n",
       "      <td>no</td>\n",
       "      <td>southeast</td>\n",
       "      <td>1725.55</td>\n",
       "    </tr>\n",
       "    <tr>\n",
       "      <th>2</th>\n",
       "      <td>28</td>\n",
       "      <td>male</td>\n",
       "      <td>33.0</td>\n",
       "      <td>3</td>\n",
       "      <td>no</td>\n",
       "      <td>southeast</td>\n",
       "      <td>4449.46</td>\n",
       "    </tr>\n",
       "    <tr>\n",
       "      <th>3</th>\n",
       "      <td>33</td>\n",
       "      <td>male</td>\n",
       "      <td>22.7</td>\n",
       "      <td>0</td>\n",
       "      <td>no</td>\n",
       "      <td>northwest</td>\n",
       "      <td>21984.47</td>\n",
       "    </tr>\n",
       "    <tr>\n",
       "      <th>4</th>\n",
       "      <td>32</td>\n",
       "      <td>male</td>\n",
       "      <td>28.9</td>\n",
       "      <td>0</td>\n",
       "      <td>no</td>\n",
       "      <td>northwest</td>\n",
       "      <td>3866.86</td>\n",
       "    </tr>\n",
       "  </tbody>\n",
       "</table>\n",
       "</div>"
      ],
      "text/plain": [
       "   age     sex   bmi  children smoker     region  expenses\n",
       "0   19  female  27.9         0    yes  southwest  16884.92\n",
       "1   18    male  33.8         1     no  southeast   1725.55\n",
       "2   28    male  33.0         3     no  southeast   4449.46\n",
       "3   33    male  22.7         0     no  northwest  21984.47\n",
       "4   32    male  28.9         0     no  northwest   3866.86"
      ]
     },
     "execution_count": 2,
     "metadata": {},
     "output_type": "execute_result"
    }
   ],
   "source": [
    "data = pd.read_csv('/Users/sylvia/Desktop/datasets/insurance.csv')\n",
    "data.head()"
   ]
  },
  {
   "cell_type": "code",
   "execution_count": 3,
   "metadata": {},
   "outputs": [
    {
     "data": {
      "text/html": [
       "<div>\n",
       "<style scoped>\n",
       "    .dataframe tbody tr th:only-of-type {\n",
       "        vertical-align: middle;\n",
       "    }\n",
       "\n",
       "    .dataframe tbody tr th {\n",
       "        vertical-align: top;\n",
       "    }\n",
       "\n",
       "    .dataframe thead th {\n",
       "        text-align: right;\n",
       "    }\n",
       "</style>\n",
       "<table border=\"1\" class=\"dataframe\">\n",
       "  <thead>\n",
       "    <tr style=\"text-align: right;\">\n",
       "      <th></th>\n",
       "      <th>age</th>\n",
       "      <th>sex</th>\n",
       "      <th>bmi</th>\n",
       "      <th>children</th>\n",
       "      <th>smoker</th>\n",
       "      <th>region</th>\n",
       "      <th>expenses</th>\n",
       "    </tr>\n",
       "  </thead>\n",
       "  <tbody>\n",
       "    <tr>\n",
       "      <th>0</th>\n",
       "      <td>19</td>\n",
       "      <td>1</td>\n",
       "      <td>27.9</td>\n",
       "      <td>0</td>\n",
       "      <td>1</td>\n",
       "      <td>southwest</td>\n",
       "      <td>16884.92</td>\n",
       "    </tr>\n",
       "    <tr>\n",
       "      <th>1</th>\n",
       "      <td>18</td>\n",
       "      <td>0</td>\n",
       "      <td>33.8</td>\n",
       "      <td>1</td>\n",
       "      <td>0</td>\n",
       "      <td>southeast</td>\n",
       "      <td>1725.55</td>\n",
       "    </tr>\n",
       "    <tr>\n",
       "      <th>2</th>\n",
       "      <td>28</td>\n",
       "      <td>0</td>\n",
       "      <td>33.0</td>\n",
       "      <td>3</td>\n",
       "      <td>0</td>\n",
       "      <td>southeast</td>\n",
       "      <td>4449.46</td>\n",
       "    </tr>\n",
       "    <tr>\n",
       "      <th>3</th>\n",
       "      <td>33</td>\n",
       "      <td>0</td>\n",
       "      <td>22.7</td>\n",
       "      <td>0</td>\n",
       "      <td>0</td>\n",
       "      <td>northwest</td>\n",
       "      <td>21984.47</td>\n",
       "    </tr>\n",
       "    <tr>\n",
       "      <th>4</th>\n",
       "      <td>32</td>\n",
       "      <td>0</td>\n",
       "      <td>28.9</td>\n",
       "      <td>0</td>\n",
       "      <td>0</td>\n",
       "      <td>northwest</td>\n",
       "      <td>3866.86</td>\n",
       "    </tr>\n",
       "  </tbody>\n",
       "</table>\n",
       "</div>"
      ],
      "text/plain": [
       "   age  sex   bmi  children  smoker     region  expenses\n",
       "0   19    1  27.9         0       1  southwest  16884.92\n",
       "1   18    0  33.8         1       0  southeast   1725.55\n",
       "2   28    0  33.0         3       0  southeast   4449.46\n",
       "3   33    0  22.7         0       0  northwest  21984.47\n",
       "4   32    0  28.9         0       0  northwest   3866.86"
      ]
     },
     "execution_count": 3,
     "metadata": {},
     "output_type": "execute_result"
    }
   ],
   "source": [
    "# Binary Variables - sex and smoker\n",
    "data['sex'] = data['sex'].replace({'female':1, 'male':0})\n",
    "data['smoker'] = data['smoker'].replace({'yes':1, 'no':0})\n",
    "data.head()"
   ]
  },
  {
   "cell_type": "code",
   "execution_count": 4,
   "metadata": {},
   "outputs": [
    {
     "data": {
      "text/html": [
       "<div>\n",
       "<style scoped>\n",
       "    .dataframe tbody tr th:only-of-type {\n",
       "        vertical-align: middle;\n",
       "    }\n",
       "\n",
       "    .dataframe tbody tr th {\n",
       "        vertical-align: top;\n",
       "    }\n",
       "\n",
       "    .dataframe thead th {\n",
       "        text-align: right;\n",
       "    }\n",
       "</style>\n",
       "<table border=\"1\" class=\"dataframe\">\n",
       "  <thead>\n",
       "    <tr style=\"text-align: right;\">\n",
       "      <th></th>\n",
       "      <th>age</th>\n",
       "      <th>sex</th>\n",
       "      <th>bmi</th>\n",
       "      <th>children</th>\n",
       "      <th>smoker</th>\n",
       "      <th>region_northeast</th>\n",
       "      <th>region_northwest</th>\n",
       "      <th>region_southeast</th>\n",
       "      <th>region_southwest</th>\n",
       "      <th>expenses</th>\n",
       "    </tr>\n",
       "  </thead>\n",
       "  <tbody>\n",
       "    <tr>\n",
       "      <th>0</th>\n",
       "      <td>19</td>\n",
       "      <td>1</td>\n",
       "      <td>27.9</td>\n",
       "      <td>0</td>\n",
       "      <td>1</td>\n",
       "      <td>0</td>\n",
       "      <td>0</td>\n",
       "      <td>0</td>\n",
       "      <td>1</td>\n",
       "      <td>16884.92</td>\n",
       "    </tr>\n",
       "    <tr>\n",
       "      <th>1</th>\n",
       "      <td>18</td>\n",
       "      <td>0</td>\n",
       "      <td>33.8</td>\n",
       "      <td>1</td>\n",
       "      <td>0</td>\n",
       "      <td>0</td>\n",
       "      <td>0</td>\n",
       "      <td>1</td>\n",
       "      <td>0</td>\n",
       "      <td>1725.55</td>\n",
       "    </tr>\n",
       "    <tr>\n",
       "      <th>2</th>\n",
       "      <td>28</td>\n",
       "      <td>0</td>\n",
       "      <td>33.0</td>\n",
       "      <td>3</td>\n",
       "      <td>0</td>\n",
       "      <td>0</td>\n",
       "      <td>0</td>\n",
       "      <td>1</td>\n",
       "      <td>0</td>\n",
       "      <td>4449.46</td>\n",
       "    </tr>\n",
       "    <tr>\n",
       "      <th>3</th>\n",
       "      <td>33</td>\n",
       "      <td>0</td>\n",
       "      <td>22.7</td>\n",
       "      <td>0</td>\n",
       "      <td>0</td>\n",
       "      <td>0</td>\n",
       "      <td>1</td>\n",
       "      <td>0</td>\n",
       "      <td>0</td>\n",
       "      <td>21984.47</td>\n",
       "    </tr>\n",
       "    <tr>\n",
       "      <th>4</th>\n",
       "      <td>32</td>\n",
       "      <td>0</td>\n",
       "      <td>28.9</td>\n",
       "      <td>0</td>\n",
       "      <td>0</td>\n",
       "      <td>0</td>\n",
       "      <td>1</td>\n",
       "      <td>0</td>\n",
       "      <td>0</td>\n",
       "      <td>3866.86</td>\n",
       "    </tr>\n",
       "  </tbody>\n",
       "</table>\n",
       "</div>"
      ],
      "text/plain": [
       "   age  sex   bmi  children  smoker  region_northeast  region_northwest  \\\n",
       "0   19    1  27.9         0       1                 0                 0   \n",
       "1   18    0  33.8         1       0                 0                 0   \n",
       "2   28    0  33.0         3       0                 0                 0   \n",
       "3   33    0  22.7         0       0                 0                 1   \n",
       "4   32    0  28.9         0       0                 0                 1   \n",
       "\n",
       "   region_southeast  region_southwest  expenses  \n",
       "0                 0                 1  16884.92  \n",
       "1                 1                 0   1725.55  \n",
       "2                 1                 0   4449.46  \n",
       "3                 0                 0  21984.47  \n",
       "4                 0                 0   3866.86  "
      ]
     },
     "execution_count": 4,
     "metadata": {},
     "output_type": "execute_result"
    }
   ],
   "source": [
    "# Multiclass variables - region\n",
    "data_ohe = pd.get_dummies(data)\n",
    "data_ohe = data_ohe.reindex(columns = [col for col in data_ohe.columns if col != 'expenses'] + ['expenses'])\n",
    "data_ohe.head()\n"
   ]
  },
  {
   "cell_type": "markdown",
   "metadata": {},
   "source": [
    "**Split into Features and Target**"
   ]
  },
  {
   "cell_type": "code",
   "execution_count": 5,
   "metadata": {},
   "outputs": [],
   "source": [
    "X = data_ohe.drop('expenses', axis = 1)\n",
    "y = data_ohe['expenses']"
   ]
  },
  {
   "cell_type": "code",
   "execution_count": 6,
   "metadata": {},
   "outputs": [
    {
     "data": {
      "text/plain": [
       "((1070, 9), (1070,), (268, 9), (268,))"
      ]
     },
     "execution_count": 6,
     "metadata": {},
     "output_type": "execute_result"
    }
   ],
   "source": [
    "xtrain, xtest, ytrain, ytest = train_test_split(X, y, test_size = .2, random_state=3)\n",
    "xtrain.shape, ytrain.shape, xtest.shape, ytest.shape"
   ]
  },
  {
   "cell_type": "markdown",
   "metadata": {},
   "source": [
    "**Modelling**"
   ]
  },
  {
   "cell_type": "code",
   "execution_count": 7,
   "metadata": {},
   "outputs": [],
   "source": [
    "model = DecisionTreeRegressor(max_depth=7).fit(xtrain, ytrain) "
   ]
  },
  {
   "cell_type": "code",
   "execution_count": 8,
   "metadata": {},
   "outputs": [
    {
     "name": "stdout",
     "output_type": "stream",
     "text": [
      "RMSE: 5046.22\n",
      "R2_score: 0.83\n"
     ]
    }
   ],
   "source": [
    "ypred_test = model.predict(xtest)\n",
    "\n",
    "print('RMSE: %.2f' % np.sqrt(mean_squared_error(ytest, ypred_test)))\n",
    "print('R2_score: %.2f' % (r2_score(ytest, ypred_test)))\n"
   ]
  },
  {
   "cell_type": "markdown",
   "metadata": {},
   "source": [
    "# Ways to find hyper-parameter (max_depth) values\n",
    "## 1st - **Grid Search CV**"
   ]
  },
  {
   "cell_type": "markdown",
   "metadata": {},
   "source": [
    "- Hyper-parameter : A parameter which has to be tuned based on the data we have \n",
    "- E.g -> min_samples_leaf, min_samples_split, max_depth or \n",
    "- Criteras like -> gini-impurity, entropy\n",
    "- max_depth is one of the hyper parameter \n",
    "- max_depth has to be defined otherwise tree will be very large & complicated coz it tries to split every node which leads to  overfitting\n",
    "- In above case max_depth is assumed to be 7\n"
   ]
  },
  {
   "cell_type": "markdown",
   "metadata": {},
   "source": [
    "### GridSearchCV"
   ]
  },
  {
   "cell_type": "markdown",
   "metadata": {},
   "source": [
    "#### Tuning single hyper parameter"
   ]
  },
  {
   "cell_type": "markdown",
   "metadata": {},
   "source": [
    "Any parameter which we have to tune based on the data which we r picking is called as hyperparameter for the model. A ML model may have 1 or more hyperparameters."
   ]
  },
  {
   "cell_type": "markdown",
   "metadata": {},
   "source": [
    "Instead of we trying different decision trees with different max_depths values, we use scikit learn to make different decision trees with values specified in range as below."
   ]
  },
  {
   "cell_type": "code",
   "execution_count": 9,
   "metadata": {},
   "outputs": [
    {
     "data": {
      "text/plain": [
       "{'max_depth': [2, 3, 4, 5, 6, 7, 8, 9, 10, 11, 12, 13, 14, 15, 16, 17, 18, 19]}"
      ]
     },
     "execution_count": 9,
     "metadata": {},
     "output_type": "execute_result"
    }
   ],
   "source": [
    "# Specifying the range for max_depths to create multiple trees\n",
    "\n",
    "# Initially this range is arbitrarily taken, its an iterative approach based on further analysis\n",
    "\n",
    "params = {'max_depth':list(range(2,20))} \n",
    "params"
   ]
  },
  {
   "cell_type": "markdown",
   "metadata": {},
   "source": [
    "**Note**\n",
    "\n",
    "1. For every max_depth, it will also do cross validation (as stated below cv=5) for e.g if we do cv=5 for max_depth=2, we will get mean R square for max_depth 2. Similary mean R square's for all depths & choose the depth with best mean R square.\n",
    "\n",
    "2. Generally we fit on original model but now we fit on GridsearchCV model.\n",
    "3. Only using training data in GridsearchCV model we try to identify optimal max_depth."
   ]
  },
  {
   "cell_type": "code",
   "execution_count": 10,
   "metadata": {},
   "outputs": [],
   "source": [
    "dtr = DecisionTreeRegressor()  # base model without any hyperparameter\n",
    "\n",
    "gs_dtr = GridSearchCV(estimator=dtr, \n",
    "                      param_grid=params, # parameters in which we want to search optimal values\n",
    "                      scoring='r2', \n",
    "                      cv=5).fit(xtrain, ytrain)\n",
    "\n",
    "# After trying all depths b/w 2 and 20, it will pick the depth which has maximum r2 with cv.\n"
   ]
  },
  {
   "cell_type": "code",
   "execution_count": 11,
   "metadata": {},
   "outputs": [
    {
     "data": {
      "text/plain": [
       "({'max_depth': 4}, 0.8449212957688363)"
      ]
     },
     "execution_count": 11,
     "metadata": {},
     "output_type": "execute_result"
    }
   ],
   "source": [
    "gs_dtr.best_params_, gs_dtr.best_score_\n"
   ]
  },
  {
   "cell_type": "markdown",
   "metadata": {},
   "source": [
    "To know results for all possibilities tried use cv_results_. By default dictionary is returned we can change it to dataframe for better view."
   ]
  },
  {
   "cell_type": "code",
   "execution_count": 12,
   "metadata": {},
   "outputs": [
    {
     "data": {
      "text/html": [
       "<div>\n",
       "<style scoped>\n",
       "    .dataframe tbody tr th:only-of-type {\n",
       "        vertical-align: middle;\n",
       "    }\n",
       "\n",
       "    .dataframe tbody tr th {\n",
       "        vertical-align: top;\n",
       "    }\n",
       "\n",
       "    .dataframe thead th {\n",
       "        text-align: right;\n",
       "    }\n",
       "</style>\n",
       "<table border=\"1\" class=\"dataframe\">\n",
       "  <thead>\n",
       "    <tr style=\"text-align: right;\">\n",
       "      <th></th>\n",
       "      <th>mean_fit_time</th>\n",
       "      <th>std_fit_time</th>\n",
       "      <th>mean_score_time</th>\n",
       "      <th>std_score_time</th>\n",
       "      <th>param_max_depth</th>\n",
       "      <th>params</th>\n",
       "      <th>split0_test_score</th>\n",
       "      <th>split1_test_score</th>\n",
       "      <th>split2_test_score</th>\n",
       "      <th>split3_test_score</th>\n",
       "      <th>split4_test_score</th>\n",
       "      <th>mean_test_score</th>\n",
       "      <th>std_test_score</th>\n",
       "      <th>rank_test_score</th>\n",
       "    </tr>\n",
       "  </thead>\n",
       "  <tbody>\n",
       "    <tr>\n",
       "      <th>0</th>\n",
       "      <td>0.001556</td>\n",
       "      <td>0.000390</td>\n",
       "      <td>0.000909</td>\n",
       "      <td>0.000136</td>\n",
       "      <td>2</td>\n",
       "      <td>{'max_depth': 2}</td>\n",
       "      <td>0.857962</td>\n",
       "      <td>0.821586</td>\n",
       "      <td>0.799544</td>\n",
       "      <td>0.832458</td>\n",
       "      <td>0.774093</td>\n",
       "      <td>0.817129</td>\n",
       "      <td>0.028578</td>\n",
       "      <td>5</td>\n",
       "    </tr>\n",
       "    <tr>\n",
       "      <th>1</th>\n",
       "      <td>0.001390</td>\n",
       "      <td>0.000097</td>\n",
       "      <td>0.000766</td>\n",
       "      <td>0.000045</td>\n",
       "      <td>3</td>\n",
       "      <td>{'max_depth': 3}</td>\n",
       "      <td>0.871974</td>\n",
       "      <td>0.840703</td>\n",
       "      <td>0.829108</td>\n",
       "      <td>0.860573</td>\n",
       "      <td>0.813413</td>\n",
       "      <td>0.843154</td>\n",
       "      <td>0.021080</td>\n",
       "      <td>2</td>\n",
       "    </tr>\n",
       "    <tr>\n",
       "      <th>2</th>\n",
       "      <td>0.001363</td>\n",
       "      <td>0.000009</td>\n",
       "      <td>0.000711</td>\n",
       "      <td>0.000004</td>\n",
       "      <td>4</td>\n",
       "      <td>{'max_depth': 4}</td>\n",
       "      <td>0.874799</td>\n",
       "      <td>0.847134</td>\n",
       "      <td>0.823459</td>\n",
       "      <td>0.864164</td>\n",
       "      <td>0.815051</td>\n",
       "      <td>0.844921</td>\n",
       "      <td>0.022894</td>\n",
       "      <td>1</td>\n",
       "    </tr>\n",
       "    <tr>\n",
       "      <th>3</th>\n",
       "      <td>0.001496</td>\n",
       "      <td>0.000037</td>\n",
       "      <td>0.000718</td>\n",
       "      <td>0.000010</td>\n",
       "      <td>5</td>\n",
       "      <td>{'max_depth': 5}</td>\n",
       "      <td>0.880109</td>\n",
       "      <td>0.841922</td>\n",
       "      <td>0.822264</td>\n",
       "      <td>0.851796</td>\n",
       "      <td>0.816724</td>\n",
       "      <td>0.842563</td>\n",
       "      <td>0.022694</td>\n",
       "      <td>3</td>\n",
       "    </tr>\n",
       "    <tr>\n",
       "      <th>4</th>\n",
       "      <td>0.001606</td>\n",
       "      <td>0.000012</td>\n",
       "      <td>0.000754</td>\n",
       "      <td>0.000042</td>\n",
       "      <td>6</td>\n",
       "      <td>{'max_depth': 6}</td>\n",
       "      <td>0.859062</td>\n",
       "      <td>0.837866</td>\n",
       "      <td>0.799566</td>\n",
       "      <td>0.823369</td>\n",
       "      <td>0.835822</td>\n",
       "      <td>0.831137</td>\n",
       "      <td>0.019515</td>\n",
       "      <td>4</td>\n",
       "    </tr>\n",
       "    <tr>\n",
       "      <th>5</th>\n",
       "      <td>0.001783</td>\n",
       "      <td>0.000060</td>\n",
       "      <td>0.000754</td>\n",
       "      <td>0.000052</td>\n",
       "      <td>7</td>\n",
       "      <td>{'max_depth': 7}</td>\n",
       "      <td>0.833180</td>\n",
       "      <td>0.837506</td>\n",
       "      <td>0.784606</td>\n",
       "      <td>0.780779</td>\n",
       "      <td>0.802978</td>\n",
       "      <td>0.807810</td>\n",
       "      <td>0.023740</td>\n",
       "      <td>6</td>\n",
       "    </tr>\n",
       "    <tr>\n",
       "      <th>6</th>\n",
       "      <td>0.001998</td>\n",
       "      <td>0.000118</td>\n",
       "      <td>0.000845</td>\n",
       "      <td>0.000202</td>\n",
       "      <td>8</td>\n",
       "      <td>{'max_depth': 8}</td>\n",
       "      <td>0.803915</td>\n",
       "      <td>0.812578</td>\n",
       "      <td>0.765309</td>\n",
       "      <td>0.765556</td>\n",
       "      <td>0.743799</td>\n",
       "      <td>0.778232</td>\n",
       "      <td>0.025894</td>\n",
       "      <td>7</td>\n",
       "    </tr>\n",
       "    <tr>\n",
       "      <th>7</th>\n",
       "      <td>0.002139</td>\n",
       "      <td>0.000110</td>\n",
       "      <td>0.000817</td>\n",
       "      <td>0.000109</td>\n",
       "      <td>9</td>\n",
       "      <td>{'max_depth': 9}</td>\n",
       "      <td>0.780181</td>\n",
       "      <td>0.793471</td>\n",
       "      <td>0.727017</td>\n",
       "      <td>0.691342</td>\n",
       "      <td>0.686359</td>\n",
       "      <td>0.735674</td>\n",
       "      <td>0.044257</td>\n",
       "      <td>8</td>\n",
       "    </tr>\n",
       "    <tr>\n",
       "      <th>8</th>\n",
       "      <td>0.002224</td>\n",
       "      <td>0.000023</td>\n",
       "      <td>0.000757</td>\n",
       "      <td>0.000031</td>\n",
       "      <td>10</td>\n",
       "      <td>{'max_depth': 10}</td>\n",
       "      <td>0.762053</td>\n",
       "      <td>0.793784</td>\n",
       "      <td>0.744314</td>\n",
       "      <td>0.708558</td>\n",
       "      <td>0.614246</td>\n",
       "      <td>0.724591</td>\n",
       "      <td>0.061665</td>\n",
       "      <td>9</td>\n",
       "    </tr>\n",
       "    <tr>\n",
       "      <th>9</th>\n",
       "      <td>0.002344</td>\n",
       "      <td>0.000066</td>\n",
       "      <td>0.000768</td>\n",
       "      <td>0.000057</td>\n",
       "      <td>11</td>\n",
       "      <td>{'max_depth': 11}</td>\n",
       "      <td>0.756660</td>\n",
       "      <td>0.762592</td>\n",
       "      <td>0.701063</td>\n",
       "      <td>0.688371</td>\n",
       "      <td>0.590568</td>\n",
       "      <td>0.699851</td>\n",
       "      <td>0.062032</td>\n",
       "      <td>10</td>\n",
       "    </tr>\n",
       "    <tr>\n",
       "      <th>10</th>\n",
       "      <td>0.002460</td>\n",
       "      <td>0.000047</td>\n",
       "      <td>0.000760</td>\n",
       "      <td>0.000012</td>\n",
       "      <td>12</td>\n",
       "      <td>{'max_depth': 12}</td>\n",
       "      <td>0.710603</td>\n",
       "      <td>0.773707</td>\n",
       "      <td>0.693089</td>\n",
       "      <td>0.690086</td>\n",
       "      <td>0.567820</td>\n",
       "      <td>0.687061</td>\n",
       "      <td>0.066821</td>\n",
       "      <td>13</td>\n",
       "    </tr>\n",
       "    <tr>\n",
       "      <th>11</th>\n",
       "      <td>0.002501</td>\n",
       "      <td>0.000017</td>\n",
       "      <td>0.000764</td>\n",
       "      <td>0.000020</td>\n",
       "      <td>13</td>\n",
       "      <td>{'max_depth': 13}</td>\n",
       "      <td>0.712526</td>\n",
       "      <td>0.736686</td>\n",
       "      <td>0.702724</td>\n",
       "      <td>0.693075</td>\n",
       "      <td>0.585544</td>\n",
       "      <td>0.686111</td>\n",
       "      <td>0.052333</td>\n",
       "      <td>15</td>\n",
       "    </tr>\n",
       "    <tr>\n",
       "      <th>12</th>\n",
       "      <td>0.002557</td>\n",
       "      <td>0.000022</td>\n",
       "      <td>0.000790</td>\n",
       "      <td>0.000036</td>\n",
       "      <td>14</td>\n",
       "      <td>{'max_depth': 14}</td>\n",
       "      <td>0.737246</td>\n",
       "      <td>0.761526</td>\n",
       "      <td>0.681173</td>\n",
       "      <td>0.675992</td>\n",
       "      <td>0.595856</td>\n",
       "      <td>0.690359</td>\n",
       "      <td>0.057419</td>\n",
       "      <td>11</td>\n",
       "    </tr>\n",
       "    <tr>\n",
       "      <th>13</th>\n",
       "      <td>0.002630</td>\n",
       "      <td>0.000065</td>\n",
       "      <td>0.000774</td>\n",
       "      <td>0.000026</td>\n",
       "      <td>15</td>\n",
       "      <td>{'max_depth': 15}</td>\n",
       "      <td>0.681525</td>\n",
       "      <td>0.774777</td>\n",
       "      <td>0.714888</td>\n",
       "      <td>0.681119</td>\n",
       "      <td>0.594537</td>\n",
       "      <td>0.689369</td>\n",
       "      <td>0.058427</td>\n",
       "      <td>12</td>\n",
       "    </tr>\n",
       "    <tr>\n",
       "      <th>14</th>\n",
       "      <td>0.002615</td>\n",
       "      <td>0.000110</td>\n",
       "      <td>0.000793</td>\n",
       "      <td>0.000051</td>\n",
       "      <td>16</td>\n",
       "      <td>{'max_depth': 16}</td>\n",
       "      <td>0.692717</td>\n",
       "      <td>0.753139</td>\n",
       "      <td>0.686248</td>\n",
       "      <td>0.683354</td>\n",
       "      <td>0.570332</td>\n",
       "      <td>0.677158</td>\n",
       "      <td>0.059242</td>\n",
       "      <td>18</td>\n",
       "    </tr>\n",
       "    <tr>\n",
       "      <th>15</th>\n",
       "      <td>0.002556</td>\n",
       "      <td>0.000033</td>\n",
       "      <td>0.000757</td>\n",
       "      <td>0.000007</td>\n",
       "      <td>17</td>\n",
       "      <td>{'max_depth': 17}</td>\n",
       "      <td>0.715021</td>\n",
       "      <td>0.765545</td>\n",
       "      <td>0.680108</td>\n",
       "      <td>0.664790</td>\n",
       "      <td>0.595861</td>\n",
       "      <td>0.684265</td>\n",
       "      <td>0.056150</td>\n",
       "      <td>17</td>\n",
       "    </tr>\n",
       "    <tr>\n",
       "      <th>16</th>\n",
       "      <td>0.002555</td>\n",
       "      <td>0.000037</td>\n",
       "      <td>0.000757</td>\n",
       "      <td>0.000007</td>\n",
       "      <td>18</td>\n",
       "      <td>{'max_depth': 18}</td>\n",
       "      <td>0.721055</td>\n",
       "      <td>0.767918</td>\n",
       "      <td>0.683216</td>\n",
       "      <td>0.688516</td>\n",
       "      <td>0.574516</td>\n",
       "      <td>0.687044</td>\n",
       "      <td>0.063839</td>\n",
       "      <td>14</td>\n",
       "    </tr>\n",
       "    <tr>\n",
       "      <th>17</th>\n",
       "      <td>0.002602</td>\n",
       "      <td>0.000060</td>\n",
       "      <td>0.000774</td>\n",
       "      <td>0.000022</td>\n",
       "      <td>19</td>\n",
       "      <td>{'max_depth': 19}</td>\n",
       "      <td>0.728103</td>\n",
       "      <td>0.737298</td>\n",
       "      <td>0.707282</td>\n",
       "      <td>0.678937</td>\n",
       "      <td>0.574690</td>\n",
       "      <td>0.685262</td>\n",
       "      <td>0.058812</td>\n",
       "      <td>16</td>\n",
       "    </tr>\n",
       "  </tbody>\n",
       "</table>\n",
       "</div>"
      ],
      "text/plain": [
       "    mean_fit_time  std_fit_time  mean_score_time  std_score_time  \\\n",
       "0        0.001556      0.000390         0.000909        0.000136   \n",
       "1        0.001390      0.000097         0.000766        0.000045   \n",
       "2        0.001363      0.000009         0.000711        0.000004   \n",
       "3        0.001496      0.000037         0.000718        0.000010   \n",
       "4        0.001606      0.000012         0.000754        0.000042   \n",
       "5        0.001783      0.000060         0.000754        0.000052   \n",
       "6        0.001998      0.000118         0.000845        0.000202   \n",
       "7        0.002139      0.000110         0.000817        0.000109   \n",
       "8        0.002224      0.000023         0.000757        0.000031   \n",
       "9        0.002344      0.000066         0.000768        0.000057   \n",
       "10       0.002460      0.000047         0.000760        0.000012   \n",
       "11       0.002501      0.000017         0.000764        0.000020   \n",
       "12       0.002557      0.000022         0.000790        0.000036   \n",
       "13       0.002630      0.000065         0.000774        0.000026   \n",
       "14       0.002615      0.000110         0.000793        0.000051   \n",
       "15       0.002556      0.000033         0.000757        0.000007   \n",
       "16       0.002555      0.000037         0.000757        0.000007   \n",
       "17       0.002602      0.000060         0.000774        0.000022   \n",
       "\n",
       "   param_max_depth             params  split0_test_score  split1_test_score  \\\n",
       "0                2   {'max_depth': 2}           0.857962           0.821586   \n",
       "1                3   {'max_depth': 3}           0.871974           0.840703   \n",
       "2                4   {'max_depth': 4}           0.874799           0.847134   \n",
       "3                5   {'max_depth': 5}           0.880109           0.841922   \n",
       "4                6   {'max_depth': 6}           0.859062           0.837866   \n",
       "5                7   {'max_depth': 7}           0.833180           0.837506   \n",
       "6                8   {'max_depth': 8}           0.803915           0.812578   \n",
       "7                9   {'max_depth': 9}           0.780181           0.793471   \n",
       "8               10  {'max_depth': 10}           0.762053           0.793784   \n",
       "9               11  {'max_depth': 11}           0.756660           0.762592   \n",
       "10              12  {'max_depth': 12}           0.710603           0.773707   \n",
       "11              13  {'max_depth': 13}           0.712526           0.736686   \n",
       "12              14  {'max_depth': 14}           0.737246           0.761526   \n",
       "13              15  {'max_depth': 15}           0.681525           0.774777   \n",
       "14              16  {'max_depth': 16}           0.692717           0.753139   \n",
       "15              17  {'max_depth': 17}           0.715021           0.765545   \n",
       "16              18  {'max_depth': 18}           0.721055           0.767918   \n",
       "17              19  {'max_depth': 19}           0.728103           0.737298   \n",
       "\n",
       "    split2_test_score  split3_test_score  split4_test_score  mean_test_score  \\\n",
       "0            0.799544           0.832458           0.774093         0.817129   \n",
       "1            0.829108           0.860573           0.813413         0.843154   \n",
       "2            0.823459           0.864164           0.815051         0.844921   \n",
       "3            0.822264           0.851796           0.816724         0.842563   \n",
       "4            0.799566           0.823369           0.835822         0.831137   \n",
       "5            0.784606           0.780779           0.802978         0.807810   \n",
       "6            0.765309           0.765556           0.743799         0.778232   \n",
       "7            0.727017           0.691342           0.686359         0.735674   \n",
       "8            0.744314           0.708558           0.614246         0.724591   \n",
       "9            0.701063           0.688371           0.590568         0.699851   \n",
       "10           0.693089           0.690086           0.567820         0.687061   \n",
       "11           0.702724           0.693075           0.585544         0.686111   \n",
       "12           0.681173           0.675992           0.595856         0.690359   \n",
       "13           0.714888           0.681119           0.594537         0.689369   \n",
       "14           0.686248           0.683354           0.570332         0.677158   \n",
       "15           0.680108           0.664790           0.595861         0.684265   \n",
       "16           0.683216           0.688516           0.574516         0.687044   \n",
       "17           0.707282           0.678937           0.574690         0.685262   \n",
       "\n",
       "    std_test_score  rank_test_score  \n",
       "0         0.028578                5  \n",
       "1         0.021080                2  \n",
       "2         0.022894                1  \n",
       "3         0.022694                3  \n",
       "4         0.019515                4  \n",
       "5         0.023740                6  \n",
       "6         0.025894                7  \n",
       "7         0.044257                8  \n",
       "8         0.061665                9  \n",
       "9         0.062032               10  \n",
       "10        0.066821               13  \n",
       "11        0.052333               15  \n",
       "12        0.057419               11  \n",
       "13        0.058427               12  \n",
       "14        0.059242               18  \n",
       "15        0.056150               17  \n",
       "16        0.063839               14  \n",
       "17        0.058812               16  "
      ]
     },
     "execution_count": 12,
     "metadata": {},
     "output_type": "execute_result"
    }
   ],
   "source": [
    "# If we want to know results of R2 scores for other max_depths use -> cv_results_\n",
    "df_cv_results = pd.DataFrame(gs_dtr.cv_results_)\n",
    "df_cv_results"
   ]
  },
  {
   "cell_type": "code",
   "execution_count": 13,
   "metadata": {},
   "outputs": [
    {
     "data": {
      "text/plain": [
       "mean_fit_time                0.001363\n",
       "std_fit_time                 0.000009\n",
       "mean_score_time              0.000711\n",
       "std_score_time               0.000004\n",
       "param_max_depth                     4\n",
       "params               {'max_depth': 4}\n",
       "split0_test_score            0.874799\n",
       "split1_test_score            0.847134\n",
       "split2_test_score            0.823459\n",
       "split3_test_score            0.864164\n",
       "split4_test_score            0.815051\n",
       "mean_test_score              0.844921\n",
       "std_test_score               0.022894\n",
       "rank_test_score                     1\n",
       "Name: 2, dtype: object"
      ]
     },
     "execution_count": 13,
     "metadata": {},
     "output_type": "execute_result"
    }
   ],
   "source": [
    "# Best rank_test_score\n",
    "\n",
    "df_cv_results.iloc[2]"
   ]
  },
  {
   "cell_type": "markdown",
   "metadata": {},
   "source": [
    "Above result has a rank of 1"
   ]
  },
  {
   "cell_type": "code",
   "execution_count": 14,
   "metadata": {},
   "outputs": [
    {
     "data": {
      "text/plain": [
       "mean_fit_time                 0.00139\n",
       "std_fit_time                 0.000097\n",
       "mean_score_time              0.000766\n",
       "std_score_time               0.000045\n",
       "param_max_depth                     3\n",
       "params               {'max_depth': 3}\n",
       "split0_test_score            0.871974\n",
       "split1_test_score            0.840703\n",
       "split2_test_score            0.829108\n",
       "split3_test_score            0.860573\n",
       "split4_test_score            0.813413\n",
       "mean_test_score              0.843154\n",
       "std_test_score                0.02108\n",
       "rank_test_score                     2\n",
       "Name: 1, dtype: object"
      ]
     },
     "execution_count": 14,
     "metadata": {},
     "output_type": "execute_result"
    }
   ],
   "source": [
    "# Next best\n",
    "\n",
    "df_cv_results.iloc[1]"
   ]
  },
  {
   "cell_type": "markdown",
   "metadata": {},
   "source": [
    "Above result has a rank of 2"
   ]
  },
  {
   "cell_type": "markdown",
   "metadata": {},
   "source": [
    "####  By default we get only test scores but if we want training scores as well we need to add additional parameter 'return_train_score=True' "
   ]
  },
  {
   "cell_type": "code",
   "execution_count": 15,
   "metadata": {},
   "outputs": [
    {
     "data": {
      "text/plain": [
       "({'max_depth': 4}, 0.8449212957688363)"
      ]
     },
     "execution_count": 15,
     "metadata": {},
     "output_type": "execute_result"
    }
   ],
   "source": [
    "gs_dtr1 = GridSearchCV(estimator=dtr,\n",
    "                  param_grid=params, \n",
    "                  scoring='r2', cv=5, \n",
    "                  return_train_score=True).fit(xtrain, ytrain)\n",
    "\n",
    "gs_dtr1.best_params_, gs_dtr1.best_score_\n"
   ]
  },
  {
   "cell_type": "code",
   "execution_count": 16,
   "metadata": {},
   "outputs": [
    {
     "data": {
      "text/html": [
       "<div>\n",
       "<style scoped>\n",
       "    .dataframe tbody tr th:only-of-type {\n",
       "        vertical-align: middle;\n",
       "    }\n",
       "\n",
       "    .dataframe tbody tr th {\n",
       "        vertical-align: top;\n",
       "    }\n",
       "\n",
       "    .dataframe thead th {\n",
       "        text-align: right;\n",
       "    }\n",
       "</style>\n",
       "<table border=\"1\" class=\"dataframe\">\n",
       "  <thead>\n",
       "    <tr style=\"text-align: right;\">\n",
       "      <th></th>\n",
       "      <th>mean_fit_time</th>\n",
       "      <th>std_fit_time</th>\n",
       "      <th>mean_score_time</th>\n",
       "      <th>std_score_time</th>\n",
       "      <th>param_max_depth</th>\n",
       "      <th>params</th>\n",
       "      <th>split0_test_score</th>\n",
       "      <th>split1_test_score</th>\n",
       "      <th>split2_test_score</th>\n",
       "      <th>split3_test_score</th>\n",
       "      <th>...</th>\n",
       "      <th>mean_test_score</th>\n",
       "      <th>std_test_score</th>\n",
       "      <th>rank_test_score</th>\n",
       "      <th>split0_train_score</th>\n",
       "      <th>split1_train_score</th>\n",
       "      <th>split2_train_score</th>\n",
       "      <th>split3_train_score</th>\n",
       "      <th>split4_train_score</th>\n",
       "      <th>mean_train_score</th>\n",
       "      <th>std_train_score</th>\n",
       "    </tr>\n",
       "  </thead>\n",
       "  <tbody>\n",
       "    <tr>\n",
       "      <th>0</th>\n",
       "      <td>0.001317</td>\n",
       "      <td>0.000298</td>\n",
       "      <td>0.000805</td>\n",
       "      <td>0.000119</td>\n",
       "      <td>2</td>\n",
       "      <td>{'max_depth': 2}</td>\n",
       "      <td>0.857962</td>\n",
       "      <td>0.821586</td>\n",
       "      <td>0.799544</td>\n",
       "      <td>0.832458</td>\n",
       "      <td>...</td>\n",
       "      <td>0.817129</td>\n",
       "      <td>0.028578</td>\n",
       "      <td>5</td>\n",
       "      <td>0.818996</td>\n",
       "      <td>0.827717</td>\n",
       "      <td>0.831257</td>\n",
       "      <td>0.823484</td>\n",
       "      <td>0.836264</td>\n",
       "      <td>0.827543</td>\n",
       "      <td>0.005990</td>\n",
       "    </tr>\n",
       "    <tr>\n",
       "      <th>1</th>\n",
       "      <td>0.001298</td>\n",
       "      <td>0.000049</td>\n",
       "      <td>0.000779</td>\n",
       "      <td>0.000073</td>\n",
       "      <td>3</td>\n",
       "      <td>{'max_depth': 3}</td>\n",
       "      <td>0.871974</td>\n",
       "      <td>0.840703</td>\n",
       "      <td>0.829108</td>\n",
       "      <td>0.860573</td>\n",
       "      <td>...</td>\n",
       "      <td>0.843154</td>\n",
       "      <td>0.021080</td>\n",
       "      <td>2</td>\n",
       "      <td>0.848865</td>\n",
       "      <td>0.857754</td>\n",
       "      <td>0.860768</td>\n",
       "      <td>0.850968</td>\n",
       "      <td>0.862354</td>\n",
       "      <td>0.856142</td>\n",
       "      <td>0.005335</td>\n",
       "    </tr>\n",
       "    <tr>\n",
       "      <th>2</th>\n",
       "      <td>0.001384</td>\n",
       "      <td>0.000027</td>\n",
       "      <td>0.000735</td>\n",
       "      <td>0.000031</td>\n",
       "      <td>4</td>\n",
       "      <td>{'max_depth': 4}</td>\n",
       "      <td>0.874799</td>\n",
       "      <td>0.847134</td>\n",
       "      <td>0.823459</td>\n",
       "      <td>0.864164</td>\n",
       "      <td>...</td>\n",
       "      <td>0.844921</td>\n",
       "      <td>0.022894</td>\n",
       "      <td>1</td>\n",
       "      <td>0.863599</td>\n",
       "      <td>0.869582</td>\n",
       "      <td>0.874635</td>\n",
       "      <td>0.868835</td>\n",
       "      <td>0.875272</td>\n",
       "      <td>0.870385</td>\n",
       "      <td>0.004267</td>\n",
       "    </tr>\n",
       "    <tr>\n",
       "      <th>3</th>\n",
       "      <td>0.001566</td>\n",
       "      <td>0.000089</td>\n",
       "      <td>0.000791</td>\n",
       "      <td>0.000115</td>\n",
       "      <td>5</td>\n",
       "      <td>{'max_depth': 5}</td>\n",
       "      <td>0.880109</td>\n",
       "      <td>0.841922</td>\n",
       "      <td>0.822264</td>\n",
       "      <td>0.851796</td>\n",
       "      <td>...</td>\n",
       "      <td>0.842563</td>\n",
       "      <td>0.022694</td>\n",
       "      <td>3</td>\n",
       "      <td>0.875766</td>\n",
       "      <td>0.886687</td>\n",
       "      <td>0.889837</td>\n",
       "      <td>0.882796</td>\n",
       "      <td>0.885583</td>\n",
       "      <td>0.884134</td>\n",
       "      <td>0.004753</td>\n",
       "    </tr>\n",
       "    <tr>\n",
       "      <th>4</th>\n",
       "      <td>0.001648</td>\n",
       "      <td>0.000040</td>\n",
       "      <td>0.000766</td>\n",
       "      <td>0.000054</td>\n",
       "      <td>6</td>\n",
       "      <td>{'max_depth': 6}</td>\n",
       "      <td>0.858673</td>\n",
       "      <td>0.837866</td>\n",
       "      <td>0.800473</td>\n",
       "      <td>0.823369</td>\n",
       "      <td>...</td>\n",
       "      <td>0.831243</td>\n",
       "      <td>0.019111</td>\n",
       "      <td>4</td>\n",
       "      <td>0.892347</td>\n",
       "      <td>0.901496</td>\n",
       "      <td>0.909180</td>\n",
       "      <td>0.898781</td>\n",
       "      <td>0.903215</td>\n",
       "      <td>0.901004</td>\n",
       "      <td>0.005511</td>\n",
       "    </tr>\n",
       "  </tbody>\n",
       "</table>\n",
       "<p>5 rows × 21 columns</p>\n",
       "</div>"
      ],
      "text/plain": [
       "   mean_fit_time  std_fit_time  mean_score_time  std_score_time  \\\n",
       "0       0.001317      0.000298         0.000805        0.000119   \n",
       "1       0.001298      0.000049         0.000779        0.000073   \n",
       "2       0.001384      0.000027         0.000735        0.000031   \n",
       "3       0.001566      0.000089         0.000791        0.000115   \n",
       "4       0.001648      0.000040         0.000766        0.000054   \n",
       "\n",
       "  param_max_depth            params  split0_test_score  split1_test_score  \\\n",
       "0               2  {'max_depth': 2}           0.857962           0.821586   \n",
       "1               3  {'max_depth': 3}           0.871974           0.840703   \n",
       "2               4  {'max_depth': 4}           0.874799           0.847134   \n",
       "3               5  {'max_depth': 5}           0.880109           0.841922   \n",
       "4               6  {'max_depth': 6}           0.858673           0.837866   \n",
       "\n",
       "   split2_test_score  split3_test_score  ...  mean_test_score  std_test_score  \\\n",
       "0           0.799544           0.832458  ...         0.817129        0.028578   \n",
       "1           0.829108           0.860573  ...         0.843154        0.021080   \n",
       "2           0.823459           0.864164  ...         0.844921        0.022894   \n",
       "3           0.822264           0.851796  ...         0.842563        0.022694   \n",
       "4           0.800473           0.823369  ...         0.831243        0.019111   \n",
       "\n",
       "   rank_test_score  split0_train_score  split1_train_score  \\\n",
       "0                5            0.818996            0.827717   \n",
       "1                2            0.848865            0.857754   \n",
       "2                1            0.863599            0.869582   \n",
       "3                3            0.875766            0.886687   \n",
       "4                4            0.892347            0.901496   \n",
       "\n",
       "   split2_train_score  split3_train_score  split4_train_score  \\\n",
       "0            0.831257            0.823484            0.836264   \n",
       "1            0.860768            0.850968            0.862354   \n",
       "2            0.874635            0.868835            0.875272   \n",
       "3            0.889837            0.882796            0.885583   \n",
       "4            0.909180            0.898781            0.903215   \n",
       "\n",
       "   mean_train_score  std_train_score  \n",
       "0          0.827543         0.005990  \n",
       "1          0.856142         0.005335  \n",
       "2          0.870385         0.004267  \n",
       "3          0.884134         0.004753  \n",
       "4          0.901004         0.005511  \n",
       "\n",
       "[5 rows x 21 columns]"
      ]
     },
     "execution_count": 16,
     "metadata": {},
     "output_type": "execute_result"
    }
   ],
   "source": [
    "df_cv_results = pd.DataFrame(gs_dtr1.cv_results_)\n",
    "df_cv_results.head()\n"
   ]
  },
  {
   "cell_type": "markdown",
   "metadata": {},
   "source": [
    "# Plot mean train and test scores"
   ]
  },
  {
   "cell_type": "code",
   "execution_count": 17,
   "metadata": {},
   "outputs": [],
   "source": [
    "mean_train_scores = df_cv_results['mean_train_score']\n",
    "mean_test_scores   = df_cv_results['mean_test_score']\n",
    "max_depths = df_cv_results['param_max_depth']"
   ]
  },
  {
   "cell_type": "markdown",
   "metadata": {},
   "source": [
    "- When u increase depth of model, complexity of model will also increase.\n",
    "- As complexity of model increases training score will always increase & then get saturated to certain portion e.g. below gets saturated at R2 score 1.We can understand training samples accurately cz R2 score=1 for training data.\n",
    "- In test data, R2 score increase to certain point and then starts decreasing. So the point just before it starts to decrease is optimal point/depth."
   ]
  },
  {
   "cell_type": "code",
   "execution_count": 18,
   "metadata": {},
   "outputs": [
    {
     "data": {
      "image/png": "[encoded data removed]",
      "text/plain": [
       "<Figure size 640x480 with 1 Axes>"
      ]
     },
     "metadata": {},
     "output_type": "display_data"
    }
   ],
   "source": [
    "plt.plot(max_depths, mean_train_scores, label='Mean Train Scores')\n",
    "plt.plot(max_depths, mean_test_scores, label ='Mean Test Scores')\n",
    "plt.ylabel('R2 Score')\n",
    "plt.xlabel('Max Depth')\n",
    "plt.legend();"
   ]
  },
  {
   "cell_type": "markdown",
   "metadata": {},
   "source": [
    "* Above chart implies how the train and test scores varies upon changes in max_depths\n",
    "* max_depth below 4 could underfit \n",
    "* max_depth above 4 could overfit"
   ]
  },
  {
   "cell_type": "markdown",
   "metadata": {},
   "source": [
    "**Hence either using this chart(qualitative) or using gs_dtr.best_params_(quantitative), can decide on best value of depth.**\n",
    "\n",
    "- Usually best to look at both so u also include the human intuition into the picture & then decide. Sometimes just due to marginal increase in R square the default algorithm might rank a complex model as best model but when u visually look there could only be a marginal difference b/w a simple & complex model.\n",
    "- In general we prefer a simple model over complex if improvement in score/performance is v.marginal."
   ]
  },
  {
   "cell_type": "markdown",
   "metadata": {},
   "source": [
    "## Predicting  with best estimator"
   ]
  },
  {
   "cell_type": "markdown",
   "metadata": {},
   "source": [
    "You do not need to build model again with optimal hyperparameters in case u decide to go with Gridsearchcv model results, can use gs_dtr.best_estimator_ which is model fit with with best hyperparamters & can be directly used for prediction."
   ]
  },
  {
   "cell_type": "code",
   "execution_count": 19,
   "metadata": {},
   "outputs": [
    {
     "data": {
      "text/plain": [
       "DecisionTreeRegressor(max_depth=4)"
      ]
     },
     "execution_count": 19,
     "metadata": {},
     "output_type": "execute_result"
    }
   ],
   "source": [
    "gs_dtr.best_estimator_"
   ]
  },
  {
   "cell_type": "code",
   "execution_count": 20,
   "metadata": {},
   "outputs": [
    {
     "name": "stdout",
     "output_type": "stream",
     "text": [
      "R2 Score : 0.87\n"
     ]
    }
   ],
   "source": [
    "ypred_test = gs_dtr.best_estimator_.predict(xtest)\n",
    "print('R2 Score : %.2f' % r2_score(ytest, ypred_test))"
   ]
  },
  {
   "cell_type": "markdown",
   "metadata": {},
   "source": [
    "**Conclusion**\n",
    "\n",
    "Initially we got R2_score: 0.83 with default parameters and then using Gridsearchcv we got optimal depth=4 and increased performance to R2 Score : 0.87."
   ]
  },
  {
   "cell_type": "code",
   "execution_count": null,
   "metadata": {},
   "outputs": [],
   "source": []
  }
 ],
 "metadata": {
  "kernelspec": {
   "display_name": "Python 3 (ipykernel)",
   "language": "python",
   "name": "python3"
  },
  "language_info": {
   "codemirror_mode": {
    "name": "ipython",
    "version": 3
   },
   "file_extension": ".py",
   "mimetype": "text/x-python",
   "name": "python",
   "nbconvert_exporter": "python",
   "pygments_lexer": "ipython3",
   "version": "3.7.7"
  }
 },
 "nbformat": 4,
 "nbformat_minor": 4
}
